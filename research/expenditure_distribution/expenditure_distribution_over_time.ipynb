{
 "cells": [
  {
   "cell_type": "markdown",
   "id": "independent-fiber",
   "metadata": {},
   "source": [
    "## Notebook Intentions\n",
    "\n",
    "The purpose of this notebook is to report on the concentration of expenditure among the population over time. This notebook closely follows the methodology described in [STATISTICAL BRIEF #533:\n",
    "Concentration of Healthcare Expenditures and Selected Characteristics of High Spenders, U.S. Civilian Noninstitutionalized Population, 2018](https://www.meps.ahrq.gov/data_files/publications/st533/stat533.shtml), yet expands the research to the past decade.\n",
    "\n",
    "## Structure\n",
    "\n",
    "For each year we identify the total spending thresholds that intertect the population at various percentiles. For this notebook we will be evaluating all percentiles divisible by 10 as well as the 75th, 95th and 99th percentile. Once these thresholds have been identified we can calculate the percentage of annual spending and total annual spending attributed to members of each percentile.\n",
    "\n",
    "Using these values we can generate a concentration curve. The cumulative percentage of the population is represented along the X-axis, and the total expenditures is represented on the Y-axis. At the point where the x-axis is equal to 0.7 and the y-axis is equal to 214 this indicates the the bottom 70% of the population has a total of 214 billion dollars in expenditures. The label at each point represents the percentage of the sub-population's expenditures out of the full population's expenditures. The label at the coordinates (0.7, 214) of 10.8% indicates that the bottom 70% of the population accounts for 10.8% of overall spending. Conversely the top 30% accounts for 89.2% of overall spending. \n",
    "\n",
    "Rather than generate a concentration curve for each year we only display the curve for 2018. To allow for comparisons across years we display the curves as a bar graph with each percentile over 0.5 given it own bar. This reduces noise while only removing ~4% of total expenditures. We generate a graph that demonstrates the percentage of annual spending and a graph that demonstrates total annual spending attributed to members of each percentile.\n",
    "\n",
    "\n",
    "## Findings\n",
    "\n",
    "Expenditure concentration is highly skewed to the top 20, 5 and 1st percentiles for all years, accounting for 80%, 50% and 20% of all expenditures respectively. These proportions have remained relatively stable from 2008-2018 with no years or percentiles being statistically differentiable than the others in their groups. While the proportions have remained stable the total expenditures has increased consistently over the decade. With percentiles 0.5 through 0.9 increasing enough to be statistically significant."
   ]
  },
  {
   "cell_type": "code",
   "execution_count": 1,
   "id": "cubic-mainland",
   "metadata": {},
   "outputs": [],
   "source": [
    "import os\n",
    "from os.path import expanduser\n",
    "\n",
    "import sys\n",
    "sys.path.append(os.path.join(expanduser(\"~\"), \"meps\", \"meps_dev\"))\n",
    "\n",
    "os.environ.setdefault(\"DJANGO_SETTINGS_MODULE\", \"meps_db.settings\")\n",
    "os.environ[\"DJANGO_ALLOW_ASYNC_UNSAFE\"] = \"true\"\n",
    "\n",
    "import django\n",
    "django.setup();\n",
    "\n",
    "import pandas as pd\n",
    "import matplotlib.pyplot as plt\n",
    "import seaborn as sns\n",
    "import numpy as np\n",
    "\n",
    "from scipy import stats\n",
    "from textwrap import wrap\n",
    "\n",
    "from meps_db.components.reference import DATA_FILES_YEARS\n",
    "from meps_db.analysis.expenses import ExpensesAnalyzer"
   ]
  },
  {
   "cell_type": "code",
   "execution_count": 2,
   "id": "spread-parker",
   "metadata": {},
   "outputs": [],
   "source": [
    "sns.set_context(\"paper\", rc={\"font.size\":12,\"axes.titlesize\":12,\"axes.labelsize\":12, \"axes.ticksize\": 12}) "
   ]
  },
  {
   "cell_type": "code",
   "execution_count": 3,
   "id": "japanese-rapid",
   "metadata": {},
   "outputs": [],
   "source": [
    "# Initializer analyzer\n",
    "expenses_analyzer = ExpensesAnalyzer(years = DATA_FILES_YEARS[:11])"
   ]
  },
  {
   "cell_type": "code",
   "execution_count": 4,
   "id": "wireless-diary",
   "metadata": {
    "scrolled": true
   },
   "outputs": [],
   "source": [
    "# calculate quantiles for decade\n",
    "quantile_expenses = expenses_analyzer.calculate_quantile_expenses()\n",
    "quantile_expenses_df = pd.DataFrame(quantile_expenses)"
   ]
  },
  {
   "cell_type": "markdown",
   "id": "rolled-lotus",
   "metadata": {},
   "source": [
    "## Concentration Curve of Healthcare Expenditures 2018\n",
    "\n",
    "in 2018, spending on healthcare accounted for 17.7 percent of the United States gross domestic product, yet the majority of this spending was concentrated in a small percentage of the population. MEPS data show that about 13 percent of the U.S. civilian noninstitutionalized population had no personal healthcare expenditures in 2018. On the other hand, only 5 percent of the population accounted for nearly half of healthcare spending. This spending includes all sources of payments for medical care, including private insurance payments, Medicare, Medicaid, out-of-pocket spending, and other sources.\n",
    "\n",
    "\n",
    "Here we describe the overall concentration of healthcare expenditures across the U.S. civilian noninstitutionalized population in 2018."
   ]
  },
  {
   "cell_type": "code",
   "execution_count": 5,
   "id": "fundamental-amendment",
   "metadata": {
    "scrolled": true
   },
   "outputs": [
    {
     "data": {
      "image/png": "[encoded data removed]",
      "text/plain": [
       "<Figure size 432x288 with 1 Axes>"
      ]
     },
     "metadata": {
      "needs_background": "light"
     },
     "output_type": "display_data"
    }
   ],
   "source": [
    "quans_2018 = quantile_expenses_df.loc[(quantile_expenses_df[\"year\"]==2018)]\n",
    "ax = sns.lineplot(\n",
    "    data=quans_2018, \n",
    "    x=\"quantile\", \n",
    "    y=\"total_exp\", \n",
    "    marker= \"o\", \n",
    "    color=\"b\"\n",
    ")\n",
    "ax.set_title(\"Concentration Curve of Healthcare Expenditures, 2018\")\n",
    "ax.set(xticks=[0.1, 0.2, 0.3, 0.4, 0.5, 0.6, 0.7, 0.8, 0.9, 1])\n",
    "ax.set(xlabel=\"Cumulative Percentile of the Population\")\n",
    "ax.set(ylabel=\"Total Expenditures in Billions\")\n",
    "\n",
    "# need to hardcode due to exponential curve\n",
    "for x, y, label in zip(\n",
    "    quans_2018[\"quantile\"], quans_2018[\"total_exp\"], quans_2018[\"cum_pct_exp\"]\n",
    "):\n",
    "    if x == 0.1:\n",
    "        x_fudge, y_fudge = -0.04, 100\n",
    "    elif x <= 0.7:\n",
    "        x_fudge, y_fudge = -0.05, 100\n",
    "    elif x == 0.7:\n",
    "        x_fudge, y_fudge = -0.05, -100\n",
    "    elif x == 0.75:\n",
    "        x_fudge, y_fudge = 0.01, -120\n",
    "    elif x == 0.8:\n",
    "        x_fudge, y_fudge = 0.03, -50\n",
    "    elif x <0.95:\n",
    "        x_fudge, y_fudge = 0.02, 0\n",
    "    else:\n",
    "        x_fudge, y_fudge = -0.12, 0\n",
    "    \n",
    "    ax.text(x+x_fudge, y+y_fudge, s=f\"{label :.1f}%\", color=\"black\")\n",
    "\n",
    "plt.savefig(f\"concentration_curves/2018_concentration.png\", bbox_inches='tight')\n",
    "plt.show()"
   ]
  },
  {
   "cell_type": "markdown",
   "id": "cosmetic-paraguay",
   "metadata": {},
   "source": [
    "## Concentration Over Time\n",
    "\n",
    "Here we explore how concentration curves have changed over the decade"
   ]
  },
  {
   "cell_type": "code",
   "execution_count": 9,
   "id": "detected-africa",
   "metadata": {},
   "outputs": [
    {
     "data": {
      "text/html": [
       "<div>\n",
       "<style scoped>\n",
       "    .dataframe tbody tr th:only-of-type {\n",
       "        vertical-align: middle;\n",
       "    }\n",
       "\n",
       "    .dataframe tbody tr th {\n",
       "        vertical-align: top;\n",
       "    }\n",
       "\n",
       "    .dataframe thead th {\n",
       "        text-align: right;\n",
       "    }\n",
       "</style>\n",
       "<table border=\"1\" class=\"dataframe\">\n",
       "  <thead>\n",
       "    <tr style=\"text-align: right;\">\n",
       "      <th></th>\n",
       "      <th>year</th>\n",
       "      <th>quantile</th>\n",
       "      <th>cum_pct_exp</th>\n",
       "      <th>total_exp</th>\n",
       "      <th>z_score</th>\n",
       "    </tr>\n",
       "  </thead>\n",
       "  <tbody>\n",
       "    <tr>\n",
       "      <th>1</th>\n",
       "      <td>2018</td>\n",
       "      <td>0.2</td>\n",
       "      <td>0.105856</td>\n",
       "      <td>2.094438</td>\n",
       "      <td>2.874971</td>\n",
       "    </tr>\n",
       "    <tr>\n",
       "      <th>2</th>\n",
       "      <td>2018</td>\n",
       "      <td>0.3</td>\n",
       "      <td>0.562218</td>\n",
       "      <td>11.123882</td>\n",
       "      <td>2.839087</td>\n",
       "    </tr>\n",
       "    <tr>\n",
       "      <th>3</th>\n",
       "      <td>2018</td>\n",
       "      <td>0.4</td>\n",
       "      <td>1.505709</td>\n",
       "      <td>29.791507</td>\n",
       "      <td>2.618974</td>\n",
       "    </tr>\n",
       "  </tbody>\n",
       "</table>\n",
       "</div>"
      ],
      "text/plain": [
       "   year  quantile  cum_pct_exp  total_exp   z_score\n",
       "1  2018       0.2     0.105856   2.094438  2.874971\n",
       "2  2018       0.3     0.562218  11.123882  2.839087\n",
       "3  2018       0.4     1.505709  29.791507  2.618974"
      ]
     },
     "metadata": {},
     "output_type": "display_data"
    }
   ],
   "source": [
    "outliers = pd.DataFrame()\n",
    "for quantile in [0.1, 0.2, 0.3, 0.4, 0.5, 0.6, 0.7, 0.75, 0.8, 0.9, 0.95, 0.99, 1]:\n",
    "    df_slice = quantile_expenses_df.loc[(quantile_expenses_df[\"quantile\"] == quantile)].copy()\n",
    "    df_slice[\"z_score\"] = np.abs(stats.zscore(df_slice[\"cum_pct_exp\"]))\n",
    "\n",
    "    outliers = pd.concat([outliers, df_slice.loc[(df_slice[\"z_score\"]>2.5)]])\n",
    "\n",
    "display(outliers)"
   ]
  },
  {
   "cell_type": "code",
   "execution_count": 10,
   "id": "interested-wyoming",
   "metadata": {
    "scrolled": false
   },
   "outputs": [
    {
     "data": {
      "image/png": "[encoded data removed]",
      "text/plain": [
       "<Figure size 432x288 with 1 Axes>"
      ]
     },
     "metadata": {
      "needs_background": "light"
     },
     "output_type": "display_data"
    }
   ],
   "source": [
    "#plt.figure(figsize=(15,8))\n",
    "ax = sns.barplot(\n",
    "    x=\"year\", \n",
    "    y=\"cum_pct_exp\", \n",
    "    hue=\"quantile\", \n",
    "    data=quantile_expenses_df.loc[(quantile_expenses_df[\"quantile\"]>=.5)],\n",
    "    palette=\"viridis\"\n",
    ")\n",
    "plt.legend(title=\"Percentile\", bbox_to_anchor=(1.05, 1), loc=2, borderaxespad=0.)\n",
    "ax.set_title(\"\\n\".join(wrap(f\"Cumulative Percentage of Annual Expenditure Distributions 2008-2018\", 60)))\n",
    "ax.set(xlabel=\"Year\")\n",
    "ax.set(ylabel=\"\\n\".join(wrap(\"Cumulative Percentage of Annual Expenditures\", 30))) \n",
    "plt.savefig(f\"concentration_curves/decade_pct_concentration.png\", bbox_inches='tight')\n",
    "plt.show()"
   ]
  },
  {
   "cell_type": "code",
   "execution_count": 11,
   "id": "specific-hindu",
   "metadata": {},
   "outputs": [
    {
     "data": {
      "text/html": [
       "<div>\n",
       "<style scoped>\n",
       "    .dataframe tbody tr th:only-of-type {\n",
       "        vertical-align: middle;\n",
       "    }\n",
       "\n",
       "    .dataframe tbody tr th {\n",
       "        vertical-align: top;\n",
       "    }\n",
       "\n",
       "    .dataframe thead th {\n",
       "        text-align: right;\n",
       "    }\n",
       "</style>\n",
       "<table border=\"1\" class=\"dataframe\">\n",
       "  <thead>\n",
       "    <tr style=\"text-align: right;\">\n",
       "      <th></th>\n",
       "      <th>year</th>\n",
       "      <th>quantile</th>\n",
       "      <th>cum_pct_exp</th>\n",
       "      <th>total_exp</th>\n",
       "      <th>z_score</th>\n",
       "    </tr>\n",
       "  </thead>\n",
       "  <tbody>\n",
       "    <tr>\n",
       "      <th>4</th>\n",
       "      <td>2018</td>\n",
       "      <td>0.50</td>\n",
       "      <td>3.168907</td>\n",
       "      <td>62.699033</td>\n",
       "      <td>2.740603</td>\n",
       "    </tr>\n",
       "    <tr>\n",
       "      <th>5</th>\n",
       "      <td>2018</td>\n",
       "      <td>0.60</td>\n",
       "      <td>6.004505</td>\n",
       "      <td>118.803327</td>\n",
       "      <td>2.784129</td>\n",
       "    </tr>\n",
       "    <tr>\n",
       "      <th>6</th>\n",
       "      <td>2018</td>\n",
       "      <td>0.70</td>\n",
       "      <td>10.814212</td>\n",
       "      <td>213.966743</td>\n",
       "      <td>2.792818</td>\n",
       "    </tr>\n",
       "    <tr>\n",
       "      <th>7</th>\n",
       "      <td>2018</td>\n",
       "      <td>0.75</td>\n",
       "      <td>14.411440</td>\n",
       "      <td>285.140405</td>\n",
       "      <td>2.776289</td>\n",
       "    </tr>\n",
       "    <tr>\n",
       "      <th>8</th>\n",
       "      <td>2018</td>\n",
       "      <td>0.80</td>\n",
       "      <td>19.258901</td>\n",
       "      <td>381.050805</td>\n",
       "      <td>2.757720</td>\n",
       "    </tr>\n",
       "    <tr>\n",
       "      <th>9</th>\n",
       "      <td>2018</td>\n",
       "      <td>0.90</td>\n",
       "      <td>35.723957</td>\n",
       "      <td>706.823441</td>\n",
       "      <td>2.652515</td>\n",
       "    </tr>\n",
       "    <tr>\n",
       "      <th>10</th>\n",
       "      <td>2018</td>\n",
       "      <td>0.95</td>\n",
       "      <td>51.680759</td>\n",
       "      <td>1022.539924</td>\n",
       "      <td>2.538339</td>\n",
       "    </tr>\n",
       "  </tbody>\n",
       "</table>\n",
       "</div>"
      ],
      "text/plain": [
       "    year  quantile  cum_pct_exp    total_exp   z_score\n",
       "4   2018      0.50     3.168907    62.699033  2.740603\n",
       "5   2018      0.60     6.004505   118.803327  2.784129\n",
       "6   2018      0.70    10.814212   213.966743  2.792818\n",
       "7   2018      0.75    14.411440   285.140405  2.776289\n",
       "8   2018      0.80    19.258901   381.050805  2.757720\n",
       "9   2018      0.90    35.723957   706.823441  2.652515\n",
       "10  2018      0.95    51.680759  1022.539924  2.538339"
      ]
     },
     "metadata": {},
     "output_type": "display_data"
    }
   ],
   "source": [
    "\n",
    "outliers = pd.DataFrame()\n",
    "for quantile in [0.5, 0.6, 0.7, 0.75, 0.8, 0.9, 0.95, 0.99, 1]:\n",
    "    df_slice = quantile_expenses_df.loc[(quantile_expenses_df[\"quantile\"] == quantile)].copy()\n",
    "    df_slice[\"z_score\"] = np.abs(stats.zscore(df_slice[\"total_exp\"]))\n",
    "\n",
    "    outliers = pd.concat([outliers, df_slice.loc[(df_slice[\"z_score\"]>2.5)]])\n",
    "\n",
    "display(outliers)"
   ]
  },
  {
   "cell_type": "code",
   "execution_count": 12,
   "id": "binding-holly",
   "metadata": {},
   "outputs": [
    {
     "data": {
      "image/png": "[encoded data removed]",
      "text/plain": [
       "<Figure size 432x288 with 1 Axes>"
      ]
     },
     "metadata": {
      "needs_background": "light"
     },
     "output_type": "display_data"
    }
   ],
   "source": [
    "#plt.figure(figsize=(15,8))\n",
    "ax = sns.barplot(\n",
    "    x=\"year\", \n",
    "    y=\"total_exp\", \n",
    "    hue=\"quantile\", \n",
    "    data=quantile_expenses_df.loc[(quantile_expenses_df[\"quantile\"]>=.5)],\n",
    "    palette=\"viridis\"\n",
    ")\n",
    "plt.legend(bbox_to_anchor=(1.05, 1), loc=2, borderaxespad=0.)\n",
    "\n",
    "plt.legend(title=\"Percentile\", bbox_to_anchor=(1.05, 1), loc=2, borderaxespad=0.)\n",
    "ax.set_title(\"\\n\".join(wrap(f\"Annual Expenditure Distributions 2008-2018\", 60)))\n",
    "ax.set(xlabel=\"Year\")\n",
    "ax.set(ylabel=\"\\n\".join(wrap(\"Total Expenditures in Billions\", 40))) \n",
    "plt.savefig(f\"concentration_curves/decade_amt_concentration.png\", bbox_inches='tight')\n",
    "plt.show()"
   ]
  }
 ],
 "metadata": {
  "kernelspec": {
   "display_name": "Python 3",
   "language": "python",
   "name": "python3"
  },
  "language_info": {
   "codemirror_mode": {
    "name": "ipython",
    "version": 3
   },
   "file_extension": ".py",
   "mimetype": "text/x-python",
   "name": "python",
   "nbconvert_exporter": "python",
   "pygments_lexer": "ipython3",
   "version": "3.8.5"
  }
 },
 "nbformat": 4,
 "nbformat_minor": 5
}
