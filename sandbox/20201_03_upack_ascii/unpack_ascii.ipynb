{
 "cells": [
  {
   "cell_type": "markdown",
   "id": "twenty-directory",
   "metadata": {},
   "source": [
    "# Notebook Intentions\n",
    "\n",
    "The data types used by MEPS are a bit archaic. Additionally since 2017 several files have been formatted in a way such that they can only be accessed using SAS.\n",
    "\n",
    "In this notebook we will attempt to unpack data contained in the ascii files using the data parameters intended for R developers. If we can successfully do this we won't require the use of pyr2 and the maintainence of a second language in the codebase (R).\n"
   ]
  },
  {
   "cell_type": "code",
   "execution_count": null,
   "id": "dense-january",
   "metadata": {},
   "outputs": [],
   "source": [
    "import os\n",
    "from os.path import expanduser\n",
    "\n",
    "import sys\n",
    "sys.path.append(os.path.join(expanduser(\"~\"), \"meps\"))\n",
    "\n",
    "from zipfile import ZipFile\n",
    "\n",
    "from meps_db.components.populators import BaseComponentsPopulator as bcp\n",
    "from meps_db.components.reference import FYCDF_PUF_SSP_LOOKUP\n",
    "from meps_db.utilities.universal_utilities import UniversalUtilityFunctions as util"
   ]
  },
  {
   "cell_type": "code",
   "execution_count": null,
   "id": "innovative-separate",
   "metadata": {},
   "outputs": [],
   "source": [
    "# get path\n",
    "zip_path = bcp.get_zip_path(zip_type=\"consolidated\", year=2018, year_lookup=FYCDF_PUF_SSP_LOOKUP)\n",
    "print(f\"Path to .dat file: {zip_path}\")"
   ]
  },
  {
   "cell_type": "code",
   "execution_count": null,
   "id": "magnetic-running",
   "metadata": {},
   "outputs": [],
   "source": [
    "# unzip\n",
    "filename = zip_path.split(\"/\")[-1]\n",
    "unzip_path = zip_path.replace(filename, \"\")\n",
    "unzipped_filename = filename.split(\"dat.zip\")[0] + \".dat\"\n",
    "\n",
    "with ZipFile(zip_path,\"r\") as zip_ref:\n",
    "    zip_ref.extractall(unzip_path)\n",
    "    \n",
    "print(f\"Unzipped: {filename} to {unzip_path} as {unzipped_filename}\")"
   ]
  },
  {
   "cell_type": "code",
   "execution_count": null,
   "id": "mexican-challenge",
   "metadata": {},
   "outputs": [],
   "source": [
    "# store ascii\n",
    "with open(os.path.join(unzip_path, unzipped_filename), 'rb') as f:\n",
    "    ascii_text = f.read()"
   ]
  },
  {
   "cell_type": "code",
   "execution_count": null,
   "id": "mental-singles",
   "metadata": {},
   "outputs": [],
   "source": [
    "# load R parameters\n",
    "puf_params = util.load_data_from_file(\n",
    "            file_path=os.path.join(\n",
    "                expanduser(\"~\"), \n",
    "                \"meps\", \n",
    "                \"meps_dev\", \n",
    "                \"meps_db\", \n",
    "                \"components\", \n",
    "                \"populator_support\", \n",
    "                unzipped_filename.strip('.dat'),\n",
    "            ),\n",
    "            file_format=\"json\"\n",
    "        )\n"
   ]
  },
  {
   "cell_type": "code",
   "execution_count": null,
   "id": "pointed-judges",
   "metadata": {},
   "outputs": [],
   "source": [
    "# test first respondent\n",
    "resp = 0\n",
    "row = {}\n",
    "for start, end, name, dtype in zip(\n",
    "    puf_params[\"position_start\"], \n",
    "    puf_params[\"postion_end\"], \n",
    "    puf_params[\"var_names\"], \n",
    "    puf_params[\"var_types\"]\n",
    "):\n",
    "    val = ascii_text[start-1:end].decode(\"utf-8\").strip()\n",
    "    typed_val = float(val) if dtype == \"n\" else str(val)\n",
    "    row.update({name: typed_val})\n",
    "    \n",
    "for key in list(row.keys())[:10]:\n",
    "    print(f\"{key}: {row[key]}\")"
   ]
  },
  {
   "cell_type": "code",
   "execution_count": null,
   "id": "constant-patch",
   "metadata": {
    "scrolled": false
   },
   "outputs": [],
   "source": [
    "# test full ascii text\n",
    "data = []\n",
    "resp = 0\n",
    "\n",
    "row_data = ascii_text.decode(\"utf-8\").split(\"\\r\\n\")\n",
    "for row in row_data[:-1]:\n",
    "    resp_dict = {}\n",
    "    for start, end, name, dtype in zip(\n",
    "        puf_params[\"position_start\"], \n",
    "        puf_params[\"postion_end\"], \n",
    "        puf_params[\"var_names\"], \n",
    "        puf_params[\"var_types\"]\n",
    "    ):\n",
    "        val = row[start-1:end].strip()\n",
    "        typed_val = float(val) if dtype == \"n\" else str(val)\n",
    "        resp_dict.update({name: typed_val})\n",
    "    \n",
    "    data.append(resp_dict)"
   ]
  }
 ],
 "metadata": {
  "kernelspec": {
   "display_name": "Python 3",
   "language": "python",
   "name": "python3"
  },
  "language_info": {
   "codemirror_mode": {
    "name": "ipython",
    "version": 3
   },
   "file_extension": ".py",
   "mimetype": "text/x-python",
   "name": "python",
   "nbconvert_exporter": "python",
   "pygments_lexer": "ipython3",
   "version": "3.8.5"
  }
 },
 "nbformat": 4,
 "nbformat_minor": 5
}
