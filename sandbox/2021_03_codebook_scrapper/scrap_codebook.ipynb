{
 "cells": [
  {
   "cell_type": "markdown",
   "id": "genetic-female",
   "metadata": {},
   "source": [
    "# Notebook Intentions\n",
    "\n",
    "Once we have the raw data files we also want to associate each file with a codebook. The codebook will be used to map data values to their meanings. In this notebook we will explore the most efficent way to read these codebooks. We will start with selenium, as a simple test of pdf readers demostrates that the time required for processing is quite long.\n",
    "\n",
    "Notes:\n",
    "Unfortunately there is not a clear structure to the codebook documentation. The variable name, description, and format can all be used but the mapping of keys to values is difficult. In some cases a key is an integer, or a character which maps to a string. In other cases there is not value and a float value is only available for the key. Occasionally these three formats are combined. The processing time and number of exceptions required for a single codebook would likely slow down progress in the project for several weeks with only a small increase in clarity. For now we will encode data straight from the ssp files and reference a codebook when doing analysis."
   ]
  },
  {
   "cell_type": "code",
   "execution_count": 195,
   "id": "demographic-concentrate",
   "metadata": {},
   "outputs": [],
   "source": [
    "import os\n",
    "import time\n",
    "\n",
    "from os.path import expanduser\n",
    "from selenium import webdriver\n",
    "\n",
    "import re"
   ]
  },
  {
   "cell_type": "code",
   "execution_count": 196,
   "id": "driving-tractor",
   "metadata": {},
   "outputs": [],
   "source": [
    "executable_path = os.path.join(os.path.join(expanduser(\"~\"), \"meps\", \"meps_dev\", \"chromedriver\"))\n",
    "driver = webdriver.Chrome(executable_path=executable_path)"
   ]
  },
  {
   "cell_type": "code",
   "execution_count": 197,
   "id": "owned-commitment",
   "metadata": {},
   "outputs": [],
   "source": [
    "driver.get(\"https://www.meps.ahrq.gov/mepsweb/data_stats/download_data_files_codebook.jsp?PUFId=H209\")\n",
    "table_css = driver.find_element_by_css_selector(\n",
    "    \"body > table:nth-child(24) > tbody > tr:nth-child(2) > td:nth-child(3) > table:nth-child(5) > tbody > tr > td > table:nth-child(3)\"\n",
    ")\n",
    "\n",
    "# generate codebook\n",
    "table_str = table_css.text\n",
    "table_text = table_str.split(\"\\n\")\n",
    "last_header_ind = table_text.index(\"Description\") + 1\n",
    "\n",
    "keys = table_text[:last_header_ind]\n",
    "vals = table_text[last_header_ind:]\n",
    "\n",
    "variables = []\n",
    "for field_num in range(int(len(vals)/len(keys))):\n",
    "    variables.append(vals[field_num*last_header_ind+0])\n",
    "time.sleep(5)"
   ]
  },
  {
   "cell_type": "code",
   "execution_count": 206,
   "id": "victorian-carry",
   "metadata": {
    "scrolled": true
   },
   "outputs": [
    {
     "ename": "IndexError",
     "evalue": "list index out of range",
     "output_type": "error",
     "traceback": [
      "\u001b[0;31m---------------------------------------------------------------------------\u001b[0m",
      "\u001b[0;31mIndexError\u001b[0m                                Traceback (most recent call last)",
      "\u001b[0;32m<ipython-input-206-10d38a31fa97>\u001b[0m in \u001b[0;36m<module>\u001b[0;34m\u001b[0m\n\u001b[1;32m     39\u001b[0m             \u001b[0;32mif\u001b[0m \u001b[0mlen\u001b[0m\u001b[0;34m(\u001b[0m\u001b[0mkey_val\u001b[0m\u001b[0;34m)\u001b[0m \u001b[0;34m==\u001b[0m \u001b[0;36m1\u001b[0m\u001b[0;34m:\u001b[0m\u001b[0;34m\u001b[0m\u001b[0;34m\u001b[0m\u001b[0m\n\u001b[1;32m     40\u001b[0m                 \u001b[0mkey_val\u001b[0m \u001b[0;34m=\u001b[0m \u001b[0;34m[\u001b[0m\u001b[0mitem\u001b[0m \u001b[0;32mfor\u001b[0m \u001b[0mitem\u001b[0m \u001b[0;32min\u001b[0m \u001b[0mre\u001b[0m\u001b[0;34m.\u001b[0m\u001b[0msplit\u001b[0m\u001b[0;34m(\u001b[0m\u001b[0;34mr\"([A-Z])\"\u001b[0m\u001b[0;34m,\u001b[0m \u001b[0mmap_val\u001b[0m\u001b[0;34m,\u001b[0m \u001b[0;36m1\u001b[0m\u001b[0;34m)\u001b[0m \u001b[0;32mif\u001b[0m \u001b[0mitem\u001b[0m \u001b[0;34m!=\u001b[0m \u001b[0;34m\"\"\u001b[0m\u001b[0;34m]\u001b[0m\u001b[0;34m\u001b[0m\u001b[0;34m\u001b[0m\u001b[0m\n\u001b[0;32m---> 41\u001b[0;31m             \u001b[0mvalues_map\u001b[0m\u001b[0;34m.\u001b[0m\u001b[0mupdate\u001b[0m\u001b[0;34m(\u001b[0m\u001b[0;34m{\u001b[0m\u001b[0mkey_val\u001b[0m\u001b[0;34m[\u001b[0m\u001b[0;36m0\u001b[0m\u001b[0;34m]\u001b[0m\u001b[0;34m:\u001b[0m \u001b[0mkey_val\u001b[0m\u001b[0;34m[\u001b[0m\u001b[0;36m1\u001b[0m\u001b[0;34m]\u001b[0m\u001b[0;34m.\u001b[0m\u001b[0mstrip\u001b[0m\u001b[0;34m(\u001b[0m\u001b[0;34m\" \"\u001b[0m\u001b[0;34m)\u001b[0m\u001b[0;34m}\u001b[0m\u001b[0;34m)\u001b[0m\u001b[0;34m\u001b[0m\u001b[0;34m\u001b[0m\u001b[0m\n\u001b[0m\u001b[1;32m     42\u001b[0m         \u001b[0mvariable_dict\u001b[0m\u001b[0;34m[\u001b[0m\u001b[0;34m\"values_map\"\u001b[0m\u001b[0;34m]\u001b[0m \u001b[0;34m=\u001b[0m \u001b[0mvalues_map\u001b[0m\u001b[0;34m\u001b[0m\u001b[0;34m\u001b[0m\u001b[0m\n\u001b[1;32m     43\u001b[0m \u001b[0;34m\u001b[0m\u001b[0m\n",
      "\u001b[0;31mIndexError\u001b[0m: list index out of range"
     ]
    }
   ],
   "source": [
    "codebook = {}\n",
    "for variable in variables:\n",
    "    driver.get(\n",
    "    f\"https://www.meps.ahrq.gov/mepsweb/data_stats/download_data_files_codebook.jsp?PUFId=H209\"\n",
    "    f\"&varName={variable}\"\n",
    "    )\n",
    "    table_css = driver.find_element_by_css_selector(\n",
    "        \"body > table:nth-child(24) > tbody > tr:nth-child(2) > td:nth-child(3) > table:nth-child(5) > tbody > tr > td > table:nth-child(3)\"\n",
    "    )\n",
    "    var_table = table_css.text\n",
    "    variable_dict = {}\n",
    "    for row in var_table.split(\"\\n\"):\n",
    "        key_val = row.split(\":\")\n",
    "        variable_dict.update({key_val[0]: key_val[1].strip(\" \")})\n",
    "    \n",
    "    # get value to description map\n",
    "    table_css = driver.find_element_by_css_selector(\n",
    "        \"body > table:nth-child(24) > tbody > tr:nth-child(2) > td:nth-child(3) > table:nth-child(5) > tbody > tr > td > table:nth-child(5)\"\n",
    "    )\n",
    "\n",
    "    table_text = table_css.text.split(\"\\n\")\n",
    "    if \"WEIGHTED\" in table_text:\n",
    "        last_header_ind = table_text.index(\"WEIGHTED\") + 1\n",
    "    else:\n",
    "        last_header_ind = table_text.index(\"UNWEIGHTED\") + 1\n",
    "    last_val_ind = table_text.index(\"TOTAL\")\n",
    "\n",
    "    keys = table_text[:last_header_ind]\n",
    "    vals = table_text[last_header_ind:last_val_ind]\n",
    "    map_vals = [val for num, val in enumerate(vals) if num%len(keys)==0]\n",
    "    if float(variable_dict[\"Format\"]) > 3:\n",
    "        variable_dict[\"values_map\"] = {}\n",
    "    else:\n",
    "        values_map = {}\n",
    "        for map_val in map_vals:\n",
    "            # handle case where key is an Integer\n",
    "            key_val = [item for item in re.split(r\"(-?\\d*\\.?\\d+)\", map_val, 1) if item != \"\"]\n",
    "            # handle case where key is a Character\n",
    "            if len(key_val) == 1:\n",
    "                key_val = [item for item in re.split(r\"([A-Z])\", map_val, 1) if item != \"\"]\n",
    "            values_map.update({key_val[0]: key_val[1].strip(\" \")})\n",
    "        variable_dict[\"values_map\"] = values_map\n",
    "    \n",
    "    if any(val[0] == \"-\" for val in variable_dict[\"values_map\"].values()):\n",
    "        variable_dict[\"values_map\"] = {}\n",
    "    \n",
    "    codebook[variable] = variable_dict\n"
   ]
  }
 ],
 "metadata": {
  "kernelspec": {
   "display_name": "Python 3",
   "language": "python",
   "name": "python3"
  },
  "language_info": {
   "codemirror_mode": {
    "name": "ipython",
    "version": 3
   },
   "file_extension": ".py",
   "mimetype": "text/x-python",
   "name": "python",
   "nbconvert_exporter": "python",
   "pygments_lexer": "ipython3",
   "version": "3.8.5"
  }
 },
 "nbformat": 4,
 "nbformat_minor": 5
}
