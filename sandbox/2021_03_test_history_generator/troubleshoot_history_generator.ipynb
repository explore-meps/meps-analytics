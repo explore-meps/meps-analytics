{
 "cells": [
  {
   "cell_type": "markdown",
   "id": "written-sewing",
   "metadata": {},
   "source": [
    "# Notebook Intentions\n",
    "\n",
    "This simple notebook tests that the RespondentHistoryGenerator is working as intended. At the time of generation only 2011-2018 data was accessible."
   ]
  },
  {
   "cell_type": "code",
   "execution_count": 1,
   "id": "special-routine",
   "metadata": {},
   "outputs": [],
   "source": [
    "import os\n",
    "from os.path import expanduser\n",
    "\n",
    "import sys\n",
    "sys.path.append(os.path.join(expanduser(\"~\"), \"meps\", \"meps_dev\"))\n",
    "\n",
    "os.environ.setdefault(\"DJANGO_SETTINGS_MODULE\", \"meps_db.settings\")\n",
    "os.environ[\"DJANGO_ALLOW_ASYNC_UNSAFE\"] = \"true\"\n",
    "\n",
    "import django\n",
    "django.setup();\n",
    "\n",
    "from meps_db.components.reference import DATA_FILES_YEARS\n",
    "from meps_db.processors import RespondentHistoryGenerator"
   ]
  },
  {
   "cell_type": "code",
   "execution_count": 2,
   "id": "scenic-drama",
   "metadata": {
    "scrolled": false
   },
   "outputs": [
    {
     "name": "stdout",
     "output_type": "stream",
     "text": [
      "2018 - 30,461 Total Respondents\n",
      "2017 - 31,880 Total Respondents\n",
      "2016 - 34,655 Total Respondents\n",
      "2015 - 35,427 Total Respondents\n",
      "2014 - 34,875 Total Respondents\n",
      "2013 - 36,940 Total Respondents\n",
      "2012 - 38,974 Total Respondents\n",
      "2011 - 35,313 Total Respondents\n"
     ]
    }
   ],
   "source": [
    "for year in DATA_FILES_YEARS[:8]:\n",
    "    rhg = RespondentHistoryGenerator(years=[year])\n",
    "    respondent_history = rhg.run()\n",
    "    print(f\"{year} - {len(respondent_history[year].keys()) :,} Total Respondents\")\n"
   ]
  },
  {
   "cell_type": "code",
   "execution_count": 7,
   "id": "twenty-wonder",
   "metadata": {},
   "outputs": [],
   "source": [
    "ex_resp = list(respondent_history[2011].keys())[20]"
   ]
  },
  {
   "cell_type": "code",
   "execution_count": 8,
   "id": "interior-bathroom",
   "metadata": {},
   "outputs": [
    {
     "data": {
      "text/plain": [
       "{'characteristics': {'resp_id': '10018101',\n",
       "  'age': 50.0,\n",
       "  'sex': 'FEMALE',\n",
       "  'race_v0': 'WHITE - NO OTHER RACE REPORTED',\n",
       "  'race_v1': None,\n",
       "  'race_v2': None,\n",
       "  'weight': 10443.456908},\n",
       " 'office_based': [{'event_id': '100181010061',\n",
       "   'date': datetime.date(2011, 5, 1),\n",
       "   'physician_event': True},\n",
       "  {'event_id': '100181010071',\n",
       "   'date': datetime.date(2011, 5, 1),\n",
       "   'physician_event': True}],\n",
       " 'outpatient': [],\n",
       " 'emergency_room': [],\n",
       " 'hosptial_inpatient': [],\n",
       " 'dental_care': [{'event_id': '100181010081',\n",
       "   'date': datetime.date(2011, 1, 1)},\n",
       "  {'event_id': '100181010091', 'date': datetime.date(2011, 2, 1)},\n",
       "  {'event_id': '100181010101', 'date': datetime.date(2011, 3, 1)},\n",
       "  {'event_id': '100181010111', 'date': datetime.date(2011, 4, 1)},\n",
       "  {'event_id': '100181010121', 'date': datetime.date(2011, 5, 1)}],\n",
       " 'home_health': [],\n",
       " 'other_medical': [],\n",
       " 'presciption_medicines': []}"
      ]
     },
     "execution_count": 8,
     "metadata": {},
     "output_type": "execute_result"
    }
   ],
   "source": [
    "respondent_history[2011][ex_resp]"
   ]
  }
 ],
 "metadata": {
  "kernelspec": {
   "display_name": "Python 3",
   "language": "python",
   "name": "python3"
  },
  "language_info": {
   "codemirror_mode": {
    "name": "ipython",
    "version": 3
   },
   "file_extension": ".py",
   "mimetype": "text/x-python",
   "name": "python",
   "nbconvert_exporter": "python",
   "pygments_lexer": "ipython3",
   "version": "3.8.5"
  }
 },
 "nbformat": 4,
 "nbformat_minor": 5
}
