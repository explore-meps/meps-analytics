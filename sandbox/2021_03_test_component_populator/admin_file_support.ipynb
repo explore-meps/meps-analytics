{
 "cells": [
  {
   "cell_type": "markdown",
   "id": "cleared-stylus",
   "metadata": {},
   "source": [
    "# Notebook Intentions\n",
    "\n",
    "This notebook will generate code that can be placed directly into the admin.py file."
   ]
  },
  {
   "cell_type": "code",
   "execution_count": 1,
   "id": "contemporary-editor",
   "metadata": {},
   "outputs": [],
   "source": [
    "import os\n",
    "from os.path import expanduser\n",
    "\n",
    "import sys\n",
    "sys.path.append(os.path.join(expanduser(\"~\"), \"meps\", \"meps_dev\"))\n",
    "from meps_db.components.reference import DATA_FILES_YEARS"
   ]
  },
  {
   "cell_type": "code",
   "execution_count": 3,
   "id": "dated-liability",
   "metadata": {},
   "outputs": [],
   "source": [
    "base_models = [\n",
    "    \"FullYearConsolidated\",\n",
    "    \"PopulationCharacteristics\",\n",
    "    \"MedicalConditions\",\n",
    "    \"PrescribedMedicines\",\n",
    "    \"DentalVisits\",\n",
    "    \"OtherMedicalExpenses\",\n",
    "    \"HospitalInpatientStays\",\n",
    "    \"EmergencyRoomVisits\",\n",
    "    \"OutpatientVisits\",\n",
    "    \"OfficeBasedVisits\",\n",
    "    \"HomeHealth\",\n",
    "]"
   ]
  },
  {
   "cell_type": "code",
   "execution_count": 15,
   "id": "selected-bryan",
   "metadata": {},
   "outputs": [],
   "source": [
    "admin_text = \"\\n\"\n",
    "\n",
    "for base_model in base_models:\n",
    "    for year in DATA_FILES_YEARS:\n",
    "        \n",
    "        model_name = f\"{base_model}{str(year)[-2:]}\"\n",
    "        \n",
    "        admin_text += f\"class Admin{model_name}(admin.ModelAdmin):\\n\"\n",
    "        admin_text += f'    \"\"\" Admin settings for {model_name} model\"\"\" \\n'\n",
    "        admin_text += \"\\n\"\n",
    "        admin_text += \"    def has_change_permission(self, request, obj=None):\\n\"\n",
    "        admin_text += '        \"\"\" Do not allow users to edit model instances \"\"\"\\n'\n",
    "        admin_text += \"        return False\\n\"\n",
    "        admin_text += \"\\n\"\n",
    "        admin_text += \"    def has_delete_permission(self, request, obj=None):\\n\"\n",
    "        admin_text += '        \"\"\" Do not allow users to delete model instances \"\"\"\\n'\n",
    "        admin_text += \"        return False\\n\"\n",
    "        admin_text += \"\\n\"\n",
    "        admin_text += f\"    model = {model_name}\\n\"\n",
    "        admin_text += \"\\n\"\n",
    "        admin_text += \"    # Column names to display on table\\n\"\n",
    "        admin_text += \"    field_names = [field.name for field in model._meta.get_fields()]\\n\"\n",
    "        admin_text += \"    list_display = field_names\\n\"\n",
    "        admin_text += \"\\n\"\n",
    "        admin_text += \"    # Navigation\\n\"\n",
    "        admin_text += '    search_fields = [\"DUPERSID\"]\\n'\n",
    "        admin_text += \"    list_per_page = 15\\n\"\n",
    "        admin_text += \"\\n\"\n",
    "\n",
    "        \n",
    "for base_model in base_models:\n",
    "    for year in DATA_FILES_YEARS:\n",
    "        model_name = f\"{base_model}{str(year)[-2:]}\"\n",
    "        admin_text += f\"admin.site.register({model_name}, Admin{model_name})\\n\"\n",
    "\n",
    "text_file = open(f\"admin.txt\", \"w\")\n",
    "text_file.write(admin_text)\n",
    "text_file.close()"
   ]
  },
  {
   "cell_type": "code",
   "execution_count": null,
   "id": "bridal-violation",
   "metadata": {},
   "outputs": [],
   "source": []
  }
 ],
 "metadata": {
  "kernelspec": {
   "display_name": "Python 3",
   "language": "python",
   "name": "python3"
  },
  "language_info": {
   "codemirror_mode": {
    "name": "ipython",
    "version": 3
   },
   "file_extension": ".py",
   "mimetype": "text/x-python",
   "name": "python",
   "nbconvert_exporter": "python",
   "pygments_lexer": "ipython3",
   "version": "3.8.5"
  }
 },
 "nbformat": 4,
 "nbformat_minor": 5
}
